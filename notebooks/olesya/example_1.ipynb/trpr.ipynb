{
 "cells": [
  {
   "cell_type": "code",
   "execution_count": 4,
   "metadata": {},
   "outputs": [
    {
     "name": "stderr",
     "output_type": "stream",
     "text": [
      "2023-07-24 23:54:37.087426: I tensorflow/tsl/cuda/cudart_stub.cc:28] Could not find cuda drivers on your machine, GPU will not be used.\n",
      "2023-07-24 23:54:37.155271: I tensorflow/tsl/cuda/cudart_stub.cc:28] Could not find cuda drivers on your machine, GPU will not be used.\n",
      "2023-07-24 23:54:38.752443: W tensorflow/compiler/tf2tensorrt/utils/py_utils.cc:38] TF-TRT Warning: Could not find TensorRT\n"
     ]
    },
    {
     "name": "stdout",
     "output_type": "stream",
     "text": [
      "TensorFlow v2.12.0\n",
      "(5363863, 3)\n"
     ]
    },
    {
     "data": {
      "text/html": [
       "<div>\n",
       "<style scoped>\n",
       "    .dataframe tbody tr th:only-of-type {\n",
       "        vertical-align: middle;\n",
       "    }\n",
       "\n",
       "    .dataframe tbody tr th {\n",
       "        vertical-align: top;\n",
       "    }\n",
       "\n",
       "    .dataframe thead th {\n",
       "        text-align: right;\n",
       "    }\n",
       "</style>\n",
       "<table border=\"1\" class=\"dataframe\">\n",
       "  <thead>\n",
       "    <tr style=\"text-align: right;\">\n",
       "      <th></th>\n",
       "      <th>EntryID</th>\n",
       "      <th>term</th>\n",
       "      <th>aspect</th>\n",
       "    </tr>\n",
       "  </thead>\n",
       "  <tbody>\n",
       "    <tr>\n",
       "      <th>0</th>\n",
       "      <td>A0A009IHW8</td>\n",
       "      <td>GO:0008152</td>\n",
       "      <td>BPO</td>\n",
       "    </tr>\n",
       "    <tr>\n",
       "      <th>1</th>\n",
       "      <td>A0A009IHW8</td>\n",
       "      <td>GO:0034655</td>\n",
       "      <td>BPO</td>\n",
       "    </tr>\n",
       "    <tr>\n",
       "      <th>2</th>\n",
       "      <td>A0A009IHW8</td>\n",
       "      <td>GO:0072523</td>\n",
       "      <td>BPO</td>\n",
       "    </tr>\n",
       "    <tr>\n",
       "      <th>3</th>\n",
       "      <td>A0A009IHW8</td>\n",
       "      <td>GO:0044270</td>\n",
       "      <td>BPO</td>\n",
       "    </tr>\n",
       "    <tr>\n",
       "      <th>4</th>\n",
       "      <td>A0A009IHW8</td>\n",
       "      <td>GO:0006753</td>\n",
       "      <td>BPO</td>\n",
       "    </tr>\n",
       "  </tbody>\n",
       "</table>\n",
       "</div>"
      ],
      "text/plain": [
       "      EntryID        term aspect\n",
       "0  A0A009IHW8  GO:0008152    BPO\n",
       "1  A0A009IHW8  GO:0034655    BPO\n",
       "2  A0A009IHW8  GO:0072523    BPO\n",
       "3  A0A009IHW8  GO:0044270    BPO\n",
       "4  A0A009IHW8  GO:0006753    BPO"
      ]
     },
     "execution_count": 4,
     "metadata": {},
     "output_type": "execute_result"
    }
   ],
   "source": [
    "import tensorflow as tf\n",
    "import pandas as pd\n",
    "import numpy as np\n",
    "import seaborn as sns\n",
    "import matplotlib.pyplot as plt\n",
    "\n",
    "\n",
    "\n",
    "import numpy as np\n",
    "from matplotlib import pyplot as plt\n",
    "\n",
    "from sklearn.datasets import make_hastie_10_2\n",
    "from sklearn.model_selection import GridSearchCV\n",
    "from sklearn.metrics import make_scorer\n",
    "from sklearn.metrics import accuracy_score\n",
    "from sklearn.tree import DecisionTreeClassifier\n",
    "\n",
    "print(\"TensorFlow v\" + tf.__version__)\n",
    "\n",
    "train_terms = pd.read_csv(\"~/cafa/resources/data/raw/Train/train_terms.tsv\",sep=\"\\t\")\n",
    "print(train_terms.shape)\n",
    "train_terms.head()"
   ]
  },
  {
   "cell_type": "code",
   "execution_count": 5,
   "metadata": {},
   "outputs": [
    {
     "name": "stdout",
     "output_type": "stream",
     "text": [
      "(142246,)\n"
     ]
    }
   ],
   "source": [
    "train_protein_ids = np.load('/home/admin/cafa/resources/data/interim/t5embeds/train_ids.npy')\n",
    "print(train_protein_ids.shape)"
   ]
  },
  {
   "cell_type": "code",
   "execution_count": 6,
   "metadata": {},
   "outputs": [
    {
     "name": "stdout",
     "output_type": "stream",
     "text": [
      "(142246, 1024)\n"
     ]
    }
   ],
   "source": [
    "train_embeddings = np.load('/home/admin/cafa/resources/data/interim/t5embeds/train_embeds.npy')\n",
    "\n",
    "# Now lets convert embeddings numpy array(train_embeddings) into pandas dataframe.\n",
    "column_num = train_embeddings.shape[1]\n",
    "train_df = pd.DataFrame(train_embeddings, columns = [\"Column_\" + str(i) for i in range(1, column_num+1)])\n",
    "print(train_df.shape)\n",
    "\n",
    "X = train_df"
   ]
  },
  {
   "cell_type": "code",
   "execution_count": 7,
   "metadata": {},
   "outputs": [
    {
     "name": "stdout",
     "output_type": "stream",
     "text": [
      "(142246, 1500)\n"
     ]
    }
   ],
   "source": [
    "num_of_labels = 1500\n",
    "\n",
    "# Take value counts in descending order and fetch first 1500 `GO term ID` as labels\n",
    "labels = train_terms['term'].value_counts().index[:num_of_labels].tolist()\n",
    "train_terms_updated = train_terms.loc[train_terms['term'].isin(labels)]\n",
    "train_size = train_protein_ids.shape[0] # len(X)\n",
    "train_labels = np.zeros((train_size ,num_of_labels))\n",
    "\n",
    "# Convert from numpy to pandas series for better handling\n",
    "series_train_protein_ids = pd.Series(train_protein_ids)\n",
    "\n",
    "# Loop through each label\n",
    "for i in range(num_of_labels):\n",
    "    # For each label, fetch the corresponding train_terms data\n",
    "    n_train_terms = train_terms_updated[train_terms_updated['term'] ==  labels[i]]\n",
    "    \n",
    "    # Fetch all the unique EntryId aka proteins related to the current label(GO term ID)\n",
    "    label_related_proteins = n_train_terms['EntryID'].unique()\n",
    "    \n",
    "    # In the series_train_protein_ids pandas series, if a protein is related\n",
    "    # to the current label, then mark it as 1, else 0.\n",
    "    # Replace the ith column of train_Y with with that pandas series.\n",
    "    train_labels[:,i] =  series_train_protein_ids.isin(label_related_proteins).astype(float)\n",
    "    \n",
    "    # Progress bar percentage increase\n",
    "#    bar.update(i+1)\n",
    "\n",
    "# Notify the end of progress bar \n",
    "# bar.finish()\n",
    "\n",
    "# Convert train_Y numpy into pandas dataframe\n",
    "labels_df = pd.DataFrame(data = train_labels, columns = labels)\n",
    "print(labels_df.shape)"
   ]
  },
  {
   "cell_type": "code",
   "execution_count": 8,
   "metadata": {},
   "outputs": [],
   "source": [
    "labels_df.head()\n",
    "Y = labels_df"
   ]
  },
  {
   "cell_type": "code",
   "execution_count": 9,
   "metadata": {},
   "outputs": [],
   "source": [
    "clf = DecisionTreeClassifier()\n",
    "parametrs = {'min_samples_split': range (2,10,2) }\n"
   ]
  },
  {
   "cell_type": "code",
   "execution_count": 10,
   "metadata": {},
   "outputs": [],
   "source": [
    "\n",
    "scoring = { 'AUC': 'roc_auc', 'Accuracy': make_scorer(accuracy_score)}\n",
    "\n",
    "gs = GridSearchCV(clf,\n",
    "                  param_grid=parametrs,\n",
    "                  scoring=scoring, refit='AUC', return_train_score=True)\n",
    "\n",
    "gs.fit(train_df, labels_df)\n",
    "results = gs.cv_results_"
   ]
  },
  {
   "cell_type": "code",
   "execution_count": null,
   "metadata": {},
   "outputs": [],
   "source": [
    "gs.best_params_"
   ]
  },
  {
   "cell_type": "code",
   "execution_count": null,
   "metadata": {},
   "outputs": [],
   "source": []
  }
 ],
 "metadata": {
  "kernelspec": {
   "display_name": "Python 3",
   "language": "python",
   "name": "python3"
  },
  "language_info": {
   "codemirror_mode": {
    "name": "ipython",
    "version": 3
   },
   "file_extension": ".py",
   "mimetype": "text/x-python",
   "name": "python",
   "nbconvert_exporter": "python",
   "pygments_lexer": "ipython3",
   "version": "3.10.12"
  },
  "orig_nbformat": 4
 },
 "nbformat": 4,
 "nbformat_minor": 2
}
