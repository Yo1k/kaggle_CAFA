{
 "cells": [
  {
   "cell_type": "code",
   "execution_count": 1,
   "metadata": {},
   "outputs": [],
   "source": [
    "from pathlib import Path\n",
    "\n",
    "import matplotlib.pyplot as plt\n",
    "import numpy as np\n",
    "import pandas as pd\n",
    "import seaborn as sns\n",
    "\n",
    "# Корень проекта.\n",
    "DIR_ROOT = Path.cwd().parent.parent\n",
    "# Путь к удаленной директории с ресурсами: данные, модели и т.д.\n",
    "DIR_REMOTE: Path | None = Path('/home/admin/cafa/resources')\n",
    "\n",
    "if DIR_REMOTE is not None and DIR_REMOTE.exists():\n",
    "    DIR_RESOURCE = DIR_REMOTE\n",
    "else:\n",
    "    DIR_RESOURCE = DIR_ROOT"
   ]
  },
  {
   "cell_type": "markdown",
   "metadata": {},
   "source": [
    "# Загрузка исходного датасета"
   ]
  },
  {
   "cell_type": "code",
   "execution_count": 17,
   "metadata": {},
   "outputs": [
    {
     "name": "stdout",
     "output_type": "stream",
     "text": [
      "(5363863, 3)\n",
      "0.12 GB\n"
     ]
    }
   ],
   "source": [
    "train_terms = pd.read_csv(\n",
    "    DIR_RESOURCE / 'data/raw/Train/train_terms.tsv',\n",
    "    sep='\\t'\n",
    ")\n",
    "print(train_terms.shape)\n",
    "print(round(train_terms.memory_usage().sum() / 1024**3, 2), 'GB')"
   ]
  },
  {
   "cell_type": "markdown",
   "metadata": {},
   "source": [
    "`train_terms` состоит из 3-х столбцов и 5_363_863 записей."
   ]
  },
  {
   "cell_type": "code",
   "execution_count": 18,
   "metadata": {},
   "outputs": [
    {
     "data": {
      "text/html": [
       "<div>\n",
       "<style scoped>\n",
       "    .dataframe tbody tr th:only-of-type {\n",
       "        vertical-align: middle;\n",
       "    }\n",
       "\n",
       "    .dataframe tbody tr th {\n",
       "        vertical-align: top;\n",
       "    }\n",
       "\n",
       "    .dataframe thead th {\n",
       "        text-align: right;\n",
       "    }\n",
       "</style>\n",
       "<table border=\"1\" class=\"dataframe\">\n",
       "  <thead>\n",
       "    <tr style=\"text-align: right;\">\n",
       "      <th></th>\n",
       "      <th>EntryID</th>\n",
       "      <th>term</th>\n",
       "      <th>aspect</th>\n",
       "    </tr>\n",
       "  </thead>\n",
       "  <tbody>\n",
       "    <tr>\n",
       "      <th>0</th>\n",
       "      <td>A0A009IHW8</td>\n",
       "      <td>GO:0008152</td>\n",
       "      <td>BPO</td>\n",
       "    </tr>\n",
       "    <tr>\n",
       "      <th>1</th>\n",
       "      <td>A0A009IHW8</td>\n",
       "      <td>GO:0034655</td>\n",
       "      <td>BPO</td>\n",
       "    </tr>\n",
       "    <tr>\n",
       "      <th>2</th>\n",
       "      <td>A0A009IHW8</td>\n",
       "      <td>GO:0072523</td>\n",
       "      <td>BPO</td>\n",
       "    </tr>\n",
       "    <tr>\n",
       "      <th>3</th>\n",
       "      <td>A0A009IHW8</td>\n",
       "      <td>GO:0044270</td>\n",
       "      <td>BPO</td>\n",
       "    </tr>\n",
       "    <tr>\n",
       "      <th>4</th>\n",
       "      <td>A0A009IHW8</td>\n",
       "      <td>GO:0006753</td>\n",
       "      <td>BPO</td>\n",
       "    </tr>\n",
       "  </tbody>\n",
       "</table>\n",
       "</div>"
      ],
      "text/plain": [
       "      EntryID        term aspect\n",
       "0  A0A009IHW8  GO:0008152    BPO\n",
       "1  A0A009IHW8  GO:0034655    BPO\n",
       "2  A0A009IHW8  GO:0072523    BPO\n",
       "3  A0A009IHW8  GO:0044270    BPO\n",
       "4  A0A009IHW8  GO:0006753    BPO"
      ]
     },
     "execution_count": 18,
     "metadata": {},
     "output_type": "execute_result"
    }
   ],
   "source": [
    "train_terms.head()"
   ]
  },
  {
   "cell_type": "markdown",
   "metadata": {},
   "source": [
    "# Загрузка IA коэффициентов"
   ]
  },
  {
   "cell_type": "code",
   "execution_count": 19,
   "metadata": {},
   "outputs": [
    {
     "name": "stdout",
     "output_type": "stream",
     "text": [
      "(43248, 2)\n"
     ]
    },
    {
     "data": {
      "text/html": [
       "<div>\n",
       "<style scoped>\n",
       "    .dataframe tbody tr th:only-of-type {\n",
       "        vertical-align: middle;\n",
       "    }\n",
       "\n",
       "    .dataframe tbody tr th {\n",
       "        vertical-align: top;\n",
       "    }\n",
       "\n",
       "    .dataframe thead th {\n",
       "        text-align: right;\n",
       "    }\n",
       "</style>\n",
       "<table border=\"1\" class=\"dataframe\">\n",
       "  <thead>\n",
       "    <tr style=\"text-align: right;\">\n",
       "      <th></th>\n",
       "      <th>term</th>\n",
       "      <th>ia</th>\n",
       "    </tr>\n",
       "  </thead>\n",
       "  <tbody>\n",
       "    <tr>\n",
       "      <th>0</th>\n",
       "      <td>GO:0000001</td>\n",
       "      <td>0.000000</td>\n",
       "    </tr>\n",
       "    <tr>\n",
       "      <th>1</th>\n",
       "      <td>GO:0000002</td>\n",
       "      <td>3.103836</td>\n",
       "    </tr>\n",
       "    <tr>\n",
       "      <th>2</th>\n",
       "      <td>GO:0000003</td>\n",
       "      <td>3.439404</td>\n",
       "    </tr>\n",
       "    <tr>\n",
       "      <th>3</th>\n",
       "      <td>GO:0000011</td>\n",
       "      <td>0.056584</td>\n",
       "    </tr>\n",
       "    <tr>\n",
       "      <th>4</th>\n",
       "      <td>GO:0000012</td>\n",
       "      <td>6.400377</td>\n",
       "    </tr>\n",
       "  </tbody>\n",
       "</table>\n",
       "</div>"
      ],
      "text/plain": [
       "         term        ia\n",
       "0  GO:0000001  0.000000\n",
       "1  GO:0000002  3.103836\n",
       "2  GO:0000003  3.439404\n",
       "3  GO:0000011  0.056584\n",
       "4  GO:0000012  6.400377"
      ]
     },
     "execution_count": 19,
     "metadata": {},
     "output_type": "execute_result"
    }
   ],
   "source": [
    "ia_df = pd.read_csv(\n",
    "    DIR_RESOURCE / 'data/raw/IA.txt',\n",
    "    sep=\"\\t\",\n",
    "    names=['term', 'ia'],\n",
    ")\n",
    "print(ia_df.shape)\n",
    "ia_df.head()"
   ]
  },
  {
   "cell_type": "markdown",
   "metadata": {},
   "source": [
    "# Добавление IA колонки к `train_terms`"
   ]
  },
  {
   "cell_type": "code",
   "execution_count": 20,
   "metadata": {},
   "outputs": [
    {
     "name": "stdout",
     "output_type": "stream",
     "text": [
      "(5363863, 4)\n"
     ]
    },
    {
     "data": {
      "text/html": [
       "<div>\n",
       "<style scoped>\n",
       "    .dataframe tbody tr th:only-of-type {\n",
       "        vertical-align: middle;\n",
       "    }\n",
       "\n",
       "    .dataframe tbody tr th {\n",
       "        vertical-align: top;\n",
       "    }\n",
       "\n",
       "    .dataframe thead th {\n",
       "        text-align: right;\n",
       "    }\n",
       "</style>\n",
       "<table border=\"1\" class=\"dataframe\">\n",
       "  <thead>\n",
       "    <tr style=\"text-align: right;\">\n",
       "      <th></th>\n",
       "      <th>EntryID</th>\n",
       "      <th>term</th>\n",
       "      <th>aspect</th>\n",
       "      <th>ia</th>\n",
       "    </tr>\n",
       "  </thead>\n",
       "  <tbody>\n",
       "    <tr>\n",
       "      <th>0</th>\n",
       "      <td>A0A009IHW8</td>\n",
       "      <td>GO:0008152</td>\n",
       "      <td>BPO</td>\n",
       "      <td>1.598544</td>\n",
       "    </tr>\n",
       "    <tr>\n",
       "      <th>1</th>\n",
       "      <td>A0A023I7E1</td>\n",
       "      <td>GO:0008152</td>\n",
       "      <td>BPO</td>\n",
       "      <td>1.598544</td>\n",
       "    </tr>\n",
       "    <tr>\n",
       "      <th>2</th>\n",
       "      <td>A0A024CBD6</td>\n",
       "      <td>GO:0008152</td>\n",
       "      <td>BPO</td>\n",
       "      <td>1.598544</td>\n",
       "    </tr>\n",
       "    <tr>\n",
       "      <th>3</th>\n",
       "      <td>A0A024RAD5</td>\n",
       "      <td>GO:0008152</td>\n",
       "      <td>BPO</td>\n",
       "      <td>1.598544</td>\n",
       "    </tr>\n",
       "    <tr>\n",
       "      <th>4</th>\n",
       "      <td>A0A031WDE4</td>\n",
       "      <td>GO:0008152</td>\n",
       "      <td>BPO</td>\n",
       "      <td>1.598544</td>\n",
       "    </tr>\n",
       "  </tbody>\n",
       "</table>\n",
       "</div>"
      ],
      "text/plain": [
       "      EntryID        term aspect        ia\n",
       "0  A0A009IHW8  GO:0008152    BPO  1.598544\n",
       "1  A0A023I7E1  GO:0008152    BPO  1.598544\n",
       "2  A0A024CBD6  GO:0008152    BPO  1.598544\n",
       "3  A0A024RAD5  GO:0008152    BPO  1.598544\n",
       "4  A0A031WDE4  GO:0008152    BPO  1.598544"
      ]
     },
     "execution_count": 20,
     "metadata": {},
     "output_type": "execute_result"
    }
   ],
   "source": [
    "train_terms = pd.merge(\n",
    "    train_terms,\n",
    "    ia_df,\n",
    "    on='term',\n",
    "    how='inner',\n",
    ")\n",
    "print(train_terms.shape)\n",
    "train_terms.head()"
   ]
  },
  {
   "cell_type": "markdown",
   "metadata": {},
   "source": [
    "# Загрузка подготовленных embeddings белков\n",
    "\n",
    "Данные (embeddings белков) подготовлены [Sergei Fironov](https://www.kaggle.com/sergeifironov) с использованием модели для белков Rost Lab T5. "
   ]
  },
  {
   "cell_type": "code",
   "execution_count": 6,
   "metadata": {},
   "outputs": [
    {
     "name": "stdout",
     "output_type": "stream",
     "text": [
      "(142246,)\n"
     ]
    }
   ],
   "source": [
    "# Загрузка id белков, используемых далее для определения embeddings.\n",
    "train_protein_ids = np.load(\n",
    "    DIR_RESOURCE / 'data/interim/t5embeds/train_ids.npy'\n",
    ")\n",
    "print(train_protein_ids.shape)"
   ]
  },
  {
   "cell_type": "code",
   "execution_count": 7,
   "metadata": {},
   "outputs": [
    {
     "data": {
      "text/plain": [
       "array(['P20536', 'O73864', 'O95231', 'A0A0B4J1F4', 'P54366'], dtype='<U10')"
      ]
     },
     "execution_count": 7,
     "metadata": {},
     "output_type": "execute_result"
    }
   ],
   "source": [
    "train_protein_ids[:5]"
   ]
  },
  {
   "cell_type": "code",
   "execution_count": 8,
   "metadata": {},
   "outputs": [
    {
     "name": "stdout",
     "output_type": "stream",
     "text": [
      "(142246, 1024)\n",
      "1.09 GB\n"
     ]
    }
   ],
   "source": [
    "train_embeddings = np.load(\n",
    "    DIR_RESOURCE / 'data/interim/t5embeds/train_embeds.npy'\n",
    ")\n",
    "\n",
    "# Трансформация embeddings в `pandas` датафрейм.\n",
    "column_num = train_embeddings.shape[1]\n",
    "train_features_df = pd.DataFrame(\n",
    "    train_embeddings,\n",
    "    columns = [\"Column_\" + str(i) for i in range(1, column_num+1)]\n",
    ")\n",
    "# Удаление неиспользуемых в дальнейшем объектов.\n",
    "del train_embeddings\n",
    "print(train_features_df.shape)\n",
    "print(round(train_features_df.memory_usage().sum() / 1024**3, 2), 'GB')"
   ]
  },
  {
   "cell_type": "markdown",
   "metadata": {},
   "source": [
    "`train_features_df` состоит из 1024 признаков и 142_246 записей (различных белков)"
   ]
  },
  {
   "cell_type": "code",
   "execution_count": 9,
   "metadata": {},
   "outputs": [
    {
     "data": {
      "text/html": [
       "<div>\n",
       "<style scoped>\n",
       "    .dataframe tbody tr th:only-of-type {\n",
       "        vertical-align: middle;\n",
       "    }\n",
       "\n",
       "    .dataframe tbody tr th {\n",
       "        vertical-align: top;\n",
       "    }\n",
       "\n",
       "    .dataframe thead th {\n",
       "        text-align: right;\n",
       "    }\n",
       "</style>\n",
       "<table border=\"1\" class=\"dataframe\">\n",
       "  <thead>\n",
       "    <tr style=\"text-align: right;\">\n",
       "      <th></th>\n",
       "      <th>Column_1</th>\n",
       "      <th>Column_2</th>\n",
       "      <th>Column_3</th>\n",
       "      <th>Column_4</th>\n",
       "      <th>Column_5</th>\n",
       "      <th>Column_6</th>\n",
       "      <th>Column_7</th>\n",
       "      <th>Column_8</th>\n",
       "      <th>Column_9</th>\n",
       "      <th>Column_10</th>\n",
       "      <th>...</th>\n",
       "      <th>Column_1015</th>\n",
       "      <th>Column_1016</th>\n",
       "      <th>Column_1017</th>\n",
       "      <th>Column_1018</th>\n",
       "      <th>Column_1019</th>\n",
       "      <th>Column_1020</th>\n",
       "      <th>Column_1021</th>\n",
       "      <th>Column_1022</th>\n",
       "      <th>Column_1023</th>\n",
       "      <th>Column_1024</th>\n",
       "    </tr>\n",
       "  </thead>\n",
       "  <tbody>\n",
       "    <tr>\n",
       "      <th>0</th>\n",
       "      <td>0.049488</td>\n",
       "      <td>-0.032935</td>\n",
       "      <td>0.032473</td>\n",
       "      <td>-0.033723</td>\n",
       "      <td>-0.059505</td>\n",
       "      <td>0.075936</td>\n",
       "      <td>-0.045860</td>\n",
       "      <td>-0.104476</td>\n",
       "      <td>-0.072112</td>\n",
       "      <td>0.038806</td>\n",
       "      <td>...</td>\n",
       "      <td>-0.046516</td>\n",
       "      <td>-0.028773</td>\n",
       "      <td>-0.021878</td>\n",
       "      <td>-0.097883</td>\n",
       "      <td>0.056475</td>\n",
       "      <td>0.080950</td>\n",
       "      <td>-0.020938</td>\n",
       "      <td>-0.043532</td>\n",
       "      <td>0.096463</td>\n",
       "      <td>0.073070</td>\n",
       "    </tr>\n",
       "    <tr>\n",
       "      <th>1</th>\n",
       "      <td>-0.044616</td>\n",
       "      <td>0.064925</td>\n",
       "      <td>-0.080263</td>\n",
       "      <td>-0.075338</td>\n",
       "      <td>-0.004731</td>\n",
       "      <td>0.025408</td>\n",
       "      <td>-0.024685</td>\n",
       "      <td>-0.016568</td>\n",
       "      <td>-0.038980</td>\n",
       "      <td>-0.033870</td>\n",
       "      <td>...</td>\n",
       "      <td>-0.040173</td>\n",
       "      <td>0.003925</td>\n",
       "      <td>0.006130</td>\n",
       "      <td>0.007362</td>\n",
       "      <td>-0.066848</td>\n",
       "      <td>0.106882</td>\n",
       "      <td>-0.030134</td>\n",
       "      <td>0.026724</td>\n",
       "      <td>0.027879</td>\n",
       "      <td>-0.048430</td>\n",
       "    </tr>\n",
       "    <tr>\n",
       "      <th>2</th>\n",
       "      <td>-0.020128</td>\n",
       "      <td>-0.049779</td>\n",
       "      <td>0.007894</td>\n",
       "      <td>-0.000829</td>\n",
       "      <td>-0.047737</td>\n",
       "      <td>0.086453</td>\n",
       "      <td>-0.038107</td>\n",
       "      <td>-0.036379</td>\n",
       "      <td>0.029611</td>\n",
       "      <td>0.045029</td>\n",
       "      <td>...</td>\n",
       "      <td>0.029388</td>\n",
       "      <td>0.008456</td>\n",
       "      <td>0.000697</td>\n",
       "      <td>0.013502</td>\n",
       "      <td>-0.005968</td>\n",
       "      <td>-0.011571</td>\n",
       "      <td>0.005704</td>\n",
       "      <td>-0.036103</td>\n",
       "      <td>0.007693</td>\n",
       "      <td>0.106234</td>\n",
       "    </tr>\n",
       "    <tr>\n",
       "      <th>3</th>\n",
       "      <td>-0.007515</td>\n",
       "      <td>0.060628</td>\n",
       "      <td>0.004045</td>\n",
       "      <td>0.027056</td>\n",
       "      <td>-0.021542</td>\n",
       "      <td>0.010380</td>\n",
       "      <td>-0.025064</td>\n",
       "      <td>-0.055834</td>\n",
       "      <td>0.068238</td>\n",
       "      <td>0.027764</td>\n",
       "      <td>...</td>\n",
       "      <td>0.020792</td>\n",
       "      <td>0.023307</td>\n",
       "      <td>0.009009</td>\n",
       "      <td>0.018211</td>\n",
       "      <td>0.020820</td>\n",
       "      <td>-0.031738</td>\n",
       "      <td>0.013279</td>\n",
       "      <td>-0.018357</td>\n",
       "      <td>0.008087</td>\n",
       "      <td>0.010917</td>\n",
       "    </tr>\n",
       "    <tr>\n",
       "      <th>4</th>\n",
       "      <td>0.013468</td>\n",
       "      <td>0.041516</td>\n",
       "      <td>0.018435</td>\n",
       "      <td>-0.035595</td>\n",
       "      <td>0.008770</td>\n",
       "      <td>0.018699</td>\n",
       "      <td>-0.015452</td>\n",
       "      <td>-0.038092</td>\n",
       "      <td>-0.038326</td>\n",
       "      <td>-0.012299</td>\n",
       "      <td>...</td>\n",
       "      <td>-0.044742</td>\n",
       "      <td>-0.025432</td>\n",
       "      <td>-0.060886</td>\n",
       "      <td>-0.026915</td>\n",
       "      <td>0.026342</td>\n",
       "      <td>0.017237</td>\n",
       "      <td>0.014731</td>\n",
       "      <td>-0.016861</td>\n",
       "      <td>-0.016272</td>\n",
       "      <td>0.037054</td>\n",
       "    </tr>\n",
       "  </tbody>\n",
       "</table>\n",
       "<p>5 rows × 1024 columns</p>\n",
       "</div>"
      ],
      "text/plain": [
       "   Column_1  Column_2  Column_3  Column_4  Column_5  Column_6  Column_7  \\\n",
       "0  0.049488 -0.032935  0.032473 -0.033723 -0.059505  0.075936 -0.045860   \n",
       "1 -0.044616  0.064925 -0.080263 -0.075338 -0.004731  0.025408 -0.024685   \n",
       "2 -0.020128 -0.049779  0.007894 -0.000829 -0.047737  0.086453 -0.038107   \n",
       "3 -0.007515  0.060628  0.004045  0.027056 -0.021542  0.010380 -0.025064   \n",
       "4  0.013468  0.041516  0.018435 -0.035595  0.008770  0.018699 -0.015452   \n",
       "\n",
       "   Column_8  Column_9  Column_10  ...  Column_1015  Column_1016  Column_1017  \\\n",
       "0 -0.104476 -0.072112   0.038806  ...    -0.046516    -0.028773    -0.021878   \n",
       "1 -0.016568 -0.038980  -0.033870  ...    -0.040173     0.003925     0.006130   \n",
       "2 -0.036379  0.029611   0.045029  ...     0.029388     0.008456     0.000697   \n",
       "3 -0.055834  0.068238   0.027764  ...     0.020792     0.023307     0.009009   \n",
       "4 -0.038092 -0.038326  -0.012299  ...    -0.044742    -0.025432    -0.060886   \n",
       "\n",
       "   Column_1018  Column_1019  Column_1020  Column_1021  Column_1022  \\\n",
       "0    -0.097883     0.056475     0.080950    -0.020938    -0.043532   \n",
       "1     0.007362    -0.066848     0.106882    -0.030134     0.026724   \n",
       "2     0.013502    -0.005968    -0.011571     0.005704    -0.036103   \n",
       "3     0.018211     0.020820    -0.031738     0.013279    -0.018357   \n",
       "4    -0.026915     0.026342     0.017237     0.014731    -0.016861   \n",
       "\n",
       "   Column_1023  Column_1024  \n",
       "0     0.096463     0.073070  \n",
       "1     0.027879    -0.048430  \n",
       "2     0.007693     0.106234  \n",
       "3     0.008087     0.010917  \n",
       "4    -0.016272     0.037054  \n",
       "\n",
       "[5 rows x 1024 columns]"
      ]
     },
     "execution_count": 9,
     "metadata": {},
     "output_type": "execute_result"
    }
   ],
   "source": [
    "train_features_df.head()"
   ]
  },
  {
   "cell_type": "markdown",
   "metadata": {},
   "source": [
    "# Подготовка датасета (признаков и целей)\n",
    "Датасет готовится в соответсвии, что задача: multi label model classification.\n"
   ]
  },
  {
   "cell_type": "markdown",
   "metadata": {},
   "source": [
    "## Предобработка данных\n",
    "Т.к. GO-термов болльше 40_000, а по условию можно подавать результаты предсказаний не более 1500 аннотаций для одного белка, то ограничемся использованием только наиболее частовстречающиемися 1500 GO-термами из тренировочных данных."
   ]
  },
  {
   "cell_type": "code",
   "execution_count": 45,
   "metadata": {},
   "outputs": [
    {
     "data": {
      "image/png": "[encoded data removed]",
      "text/plain": [
       "<Figure size 1200x600 with 1 Axes>"
      ]
     },
     "metadata": {},
     "output_type": "display_data"
    }
   ],
   "source": [
    "# Выбор наиболее популярных 100 GO-термов.\n",
    "plot_df = train_terms['term'].value_counts().iloc[:1500]\n",
    "\n",
    "figure, axis = plt.subplots(1, 1, figsize=(12, 6))\n",
    "\n",
    "bp = sns.barplot(ax=axis, x=np.array(plot_df.index), y=plot_df.values)\n",
    "bp.set_xticklabels(bp.get_xticklabels(), rotation=90, size = 6)\n",
    "axis.set_title('Top 100 frequent GO term IDs')\n",
    "bp.set_xlabel('GO term IDs', fontsize = 12)\n",
    "bp.set_ylabel('Count', fontsize = 12)\n",
    "plt.show()"
   ]
  },
  {
   "cell_type": "markdown",
   "metadata": {},
   "source": [
    "## Формирование тренирововчных данных с отбором по IA (не закончено)"
   ]
  },
  {
   "cell_type": "code",
   "execution_count": 59,
   "metadata": {},
   "outputs": [
    {
     "data": {
      "image/png": "[encoded data removed]",
      "text/plain": [
       "<Figure size 640x480 with 1 Axes>"
      ]
     },
     "metadata": {},
     "output_type": "display_data"
    },
    {
     "data": {
      "image/png": "[encoded data removed]",
      "text/plain": [
       "<Figure size 1200x600 with 1 Axes>"
      ]
     },
     "metadata": {},
     "output_type": "display_data"
    }
   ],
   "source": [
    "THRESHOLD_LOWER = 0.14\n",
    "THRESHOLD_UPPER = 1.0\n",
    "CNT_LOWER = 750\n",
    "CNT_UPPER = 750\n",
    "# Серия с наиболее частовстречающимися GO-термами с низким IA\n",
    "# (термы наиболее близки к корню в DAG)\n",
    "top_low_ia = (\n",
    "    train_terms[train_terms['ia'] <= THRESHOLD_LOWER]['term']\n",
    "    .value_counts()\n",
    "    .iloc[:CNT_LOWER]\n",
    ")\n",
    "# Серия с наиболее частовстречающимися GO-термами с высокими IA\n",
    "# (термы далекие от корня в DAG)\n",
    "top_high_ia = (\n",
    "    train_terms[train_terms['ia'] >= THRESHOLD_UPPER]['term']\n",
    "    .value_counts()\n",
    "    .iloc[:CNT_UPPER]\n",
    ")\n",
    "\n",
    "terms = pd.concat([top_low_ia, top_high_ia])\n",
    "# Распределение IA-значений в выбранных термах.\n",
    "(\n",
    "    train_terms[\n",
    "        train_terms['term'].isin(terms.keys())\n",
    "    ]['ia']\n",
    "    .plot(kind='hist', bins=50)\n",
    ")\n",
    "figure, axis = plt.subplots(1, 1, figsize=(12, 6))\n",
    "\n",
    "bp = sns.barplot(ax=axis, x=np.array(terms.index), y=terms.values)\n",
    "bp.set_xticklabels(bp.get_xticklabels(), rotation=90, size = 6)\n",
    "axis.set_title('Top 100 frequent GO term IDs')\n",
    "bp.set_xlabel('GO term IDs', fontsize = 12)\n",
    "bp.set_ylabel('Count', fontsize = 12)\n",
    "plt.show()"
   ]
  },
  {
   "cell_type": "markdown",
   "metadata": {},
   "source": [
    "## Формируем список 1500 популярных GO-термов"
   ]
  },
  {
   "cell_type": "code",
   "execution_count": 21,
   "metadata": {},
   "outputs": [],
   "source": [
    "# Кол-во используемых GO-термов.\n",
    "num_of_labels = 1500\n",
    "\n",
    "# Цели, которые ограничены популярными GO-термами в кол-ве `num_of_labels`.\n",
    "labels = train_terms['term'].value_counts().index[:num_of_labels].tolist()"
   ]
  },
  {
   "cell_type": "markdown",
   "metadata": {},
   "source": [
    "Формируем массив соответсвубищих IA-коэффициентов."
   ]
  },
  {
   "cell_type": "code",
   "execution_count": 22,
   "metadata": {},
   "outputs": [],
   "source": [
    "# Фильтрация `train_terms` по отобранным GO-термам.\n",
    "train_terms_updated = train_terms.loc[train_terms['term'].isin(labels)]\n",
    "# Промежуточный датафрейм для формирования единой индексации \"term\" и \"ia\".\n",
    "term_ia_df = (\n",
    "    train_terms_updated[['term', 'ia']]\n",
    "    .drop_duplicates()\n",
    "    .reset_index(drop=True)\n",
    ")\n",
    "# Перезапись `labels` с возможно новым порядком GO-термов.\n",
    "labels = term_ia_df['term'].tolist()\n",
    "# Соответсвующий `labels` массив ia-коэф.\n",
    "ia_arr = term_ia_df['ia'].to_numpy()\n",
    "# Удаление неиспользуемых в дальнейшем объектов.\n",
    "del train_terms"
   ]
  },
  {
   "cell_type": "code",
   "execution_count": 23,
   "metadata": {},
   "outputs": [
    {
     "data": {
      "text/html": [
       "<div>\n",
       "<style scoped>\n",
       "    .dataframe tbody tr th:only-of-type {\n",
       "        vertical-align: middle;\n",
       "    }\n",
       "\n",
       "    .dataframe tbody tr th {\n",
       "        vertical-align: top;\n",
       "    }\n",
       "\n",
       "    .dataframe thead th {\n",
       "        text-align: right;\n",
       "    }\n",
       "</style>\n",
       "<table border=\"1\" class=\"dataframe\">\n",
       "  <thead>\n",
       "    <tr style=\"text-align: right;\">\n",
       "      <th></th>\n",
       "      <th>EntryID</th>\n",
       "      <th>term</th>\n",
       "      <th>aspect</th>\n",
       "      <th>ia</th>\n",
       "    </tr>\n",
       "  </thead>\n",
       "  <tbody>\n",
       "    <tr>\n",
       "      <th>0</th>\n",
       "      <td>A0A009IHW8</td>\n",
       "      <td>GO:0008152</td>\n",
       "      <td>BPO</td>\n",
       "      <td>1.598544</td>\n",
       "    </tr>\n",
       "    <tr>\n",
       "      <th>1</th>\n",
       "      <td>A0A023I7E1</td>\n",
       "      <td>GO:0008152</td>\n",
       "      <td>BPO</td>\n",
       "      <td>1.598544</td>\n",
       "    </tr>\n",
       "    <tr>\n",
       "      <th>2</th>\n",
       "      <td>A0A024CBD6</td>\n",
       "      <td>GO:0008152</td>\n",
       "      <td>BPO</td>\n",
       "      <td>1.598544</td>\n",
       "    </tr>\n",
       "    <tr>\n",
       "      <th>3</th>\n",
       "      <td>A0A024RAD5</td>\n",
       "      <td>GO:0008152</td>\n",
       "      <td>BPO</td>\n",
       "      <td>1.598544</td>\n",
       "    </tr>\n",
       "    <tr>\n",
       "      <th>4</th>\n",
       "      <td>A0A031WDE4</td>\n",
       "      <td>GO:0008152</td>\n",
       "      <td>BPO</td>\n",
       "      <td>1.598544</td>\n",
       "    </tr>\n",
       "    <tr>\n",
       "      <th>...</th>\n",
       "      <td>...</td>\n",
       "      <td>...</td>\n",
       "      <td>...</td>\n",
       "      <td>...</td>\n",
       "    </tr>\n",
       "    <tr>\n",
       "      <th>5306845</th>\n",
       "      <td>Q9Y2M0</td>\n",
       "      <td>GO:0004519</td>\n",
       "      <td>MFO</td>\n",
       "      <td>0.799087</td>\n",
       "    </tr>\n",
       "    <tr>\n",
       "      <th>5306846</th>\n",
       "      <td>Q9ZJ19</td>\n",
       "      <td>GO:0004519</td>\n",
       "      <td>MFO</td>\n",
       "      <td>0.799087</td>\n",
       "    </tr>\n",
       "    <tr>\n",
       "      <th>5306847</th>\n",
       "      <td>Q9ZVD5</td>\n",
       "      <td>GO:0004519</td>\n",
       "      <td>MFO</td>\n",
       "      <td>0.799087</td>\n",
       "    </tr>\n",
       "    <tr>\n",
       "      <th>5306848</th>\n",
       "      <td>Q9ZZX1</td>\n",
       "      <td>GO:0004519</td>\n",
       "      <td>MFO</td>\n",
       "      <td>0.799087</td>\n",
       "    </tr>\n",
       "    <tr>\n",
       "      <th>5306849</th>\n",
       "      <td>V9GXG1</td>\n",
       "      <td>GO:0004519</td>\n",
       "      <td>MFO</td>\n",
       "      <td>0.799087</td>\n",
       "    </tr>\n",
       "  </tbody>\n",
       "</table>\n",
       "<p>4420737 rows × 4 columns</p>\n",
       "</div>"
      ],
      "text/plain": [
       "            EntryID        term aspect        ia\n",
       "0        A0A009IHW8  GO:0008152    BPO  1.598544\n",
       "1        A0A023I7E1  GO:0008152    BPO  1.598544\n",
       "2        A0A024CBD6  GO:0008152    BPO  1.598544\n",
       "3        A0A024RAD5  GO:0008152    BPO  1.598544\n",
       "4        A0A031WDE4  GO:0008152    BPO  1.598544\n",
       "...             ...         ...    ...       ...\n",
       "5306845      Q9Y2M0  GO:0004519    MFO  0.799087\n",
       "5306846      Q9ZJ19  GO:0004519    MFO  0.799087\n",
       "5306847      Q9ZVD5  GO:0004519    MFO  0.799087\n",
       "5306848      Q9ZZX1  GO:0004519    MFO  0.799087\n",
       "5306849      V9GXG1  GO:0004519    MFO  0.799087\n",
       "\n",
       "[4420737 rows x 4 columns]"
      ]
     },
     "execution_count": 23,
     "metadata": {},
     "output_type": "execute_result"
    }
   ],
   "source": [
    "train_terms_updated"
   ]
  },
  {
   "cell_type": "code",
   "execution_count": 24,
   "metadata": {},
   "outputs": [
    {
     "data": {
      "text/html": [
       "<div>\n",
       "<style scoped>\n",
       "    .dataframe tbody tr th:only-of-type {\n",
       "        vertical-align: middle;\n",
       "    }\n",
       "\n",
       "    .dataframe tbody tr th {\n",
       "        vertical-align: top;\n",
       "    }\n",
       "\n",
       "    .dataframe thead th {\n",
       "        text-align: right;\n",
       "    }\n",
       "</style>\n",
       "<table border=\"1\" class=\"dataframe\">\n",
       "  <thead>\n",
       "    <tr style=\"text-align: right;\">\n",
       "      <th></th>\n",
       "      <th>term</th>\n",
       "      <th>ia</th>\n",
       "    </tr>\n",
       "  </thead>\n",
       "  <tbody>\n",
       "    <tr>\n",
       "      <th>0</th>\n",
       "      <td>GO:0008152</td>\n",
       "      <td>1.598544</td>\n",
       "    </tr>\n",
       "    <tr>\n",
       "      <th>1</th>\n",
       "      <td>GO:0034655</td>\n",
       "      <td>0.042274</td>\n",
       "    </tr>\n",
       "    <tr>\n",
       "      <th>2</th>\n",
       "      <td>GO:0044270</td>\n",
       "      <td>0.281155</td>\n",
       "    </tr>\n",
       "    <tr>\n",
       "      <th>3</th>\n",
       "      <td>GO:0006753</td>\n",
       "      <td>0.013844</td>\n",
       "    </tr>\n",
       "    <tr>\n",
       "      <th>4</th>\n",
       "      <td>GO:0044237</td>\n",
       "      <td>0.103670</td>\n",
       "    </tr>\n",
       "    <tr>\n",
       "      <th>...</th>\n",
       "      <td>...</td>\n",
       "      <td>...</td>\n",
       "    </tr>\n",
       "    <tr>\n",
       "      <th>1495</th>\n",
       "      <td>GO:0003924</td>\n",
       "      <td>0.913082</td>\n",
       "    </tr>\n",
       "    <tr>\n",
       "      <th>1496</th>\n",
       "      <td>GO:0003735</td>\n",
       "      <td>0.911680</td>\n",
       "    </tr>\n",
       "    <tr>\n",
       "      <th>1497</th>\n",
       "      <td>GO:0004518</td>\n",
       "      <td>1.944116</td>\n",
       "    </tr>\n",
       "    <tr>\n",
       "      <th>1498</th>\n",
       "      <td>GO:0004540</td>\n",
       "      <td>0.019236</td>\n",
       "    </tr>\n",
       "    <tr>\n",
       "      <th>1499</th>\n",
       "      <td>GO:0004519</td>\n",
       "      <td>0.799087</td>\n",
       "    </tr>\n",
       "  </tbody>\n",
       "</table>\n",
       "<p>1500 rows × 2 columns</p>\n",
       "</div>"
      ],
      "text/plain": [
       "            term        ia\n",
       "0     GO:0008152  1.598544\n",
       "1     GO:0034655  0.042274\n",
       "2     GO:0044270  0.281155\n",
       "3     GO:0006753  0.013844\n",
       "4     GO:0044237  0.103670\n",
       "...          ...       ...\n",
       "1495  GO:0003924  0.913082\n",
       "1496  GO:0003735  0.911680\n",
       "1497  GO:0004518  1.944116\n",
       "1498  GO:0004540  0.019236\n",
       "1499  GO:0004519  0.799087\n",
       "\n",
       "[1500 rows x 2 columns]"
      ]
     },
     "execution_count": 24,
     "metadata": {},
     "output_type": "execute_result"
    }
   ],
   "source": [
    "term_ia_df"
   ]
  },
  {
   "cell_type": "markdown",
   "metadata": {},
   "source": [
    "Распределение аспектов в GO для обновленных данных `train_terms_updated`"
   ]
  },
  {
   "cell_type": "code",
   "execution_count": 29,
   "metadata": {},
   "outputs": [
    {
     "data": {
      "image/png": "[encoded data removed]",
      "text/plain": [
       "<Figure size 640x480 with 1 Axes>"
      ]
     },
     "metadata": {},
     "output_type": "display_data"
    }
   ],
   "source": [
    "pie_df = train_terms_updated['aspect'].value_counts()\n",
    "palette_color = sns.color_palette('bright')\n",
    "plt.pie(pie_df.values, labels=np.array(pie_df.index), colors=palette_color, autopct='%.0f%%')\n",
    "plt.show()"
   ]
  },
  {
   "cell_type": "markdown",
   "metadata": {},
   "source": [
    "## Непосредственное формирование целей\n",
    "Непосредственное формирование датафрейма (таблицы целей для случая multi label classification) по отобранным GO-термам."
   ]
  },
  {
   "cell_type": "code",
   "execution_count": 30,
   "metadata": {},
   "outputs": [
    {
     "name": "stdout",
     "output_type": "stream",
     "text": [
      "(142246, 1500)\n",
      "0.79 GB\n"
     ]
    }
   ],
   "source": [
    "# Формирование нулевой матрицы с необходимыми размерами:\n",
    "# например train_size x num_of_labels (142246 x 1500)\n",
    "train_size = train_protein_ids.shape[0]\n",
    "train_labels = np.zeros((train_size ,num_of_labels))\n",
    "\n",
    "# Конвертация `numpy` одномерного массива в `pandas.Series`.\n",
    "series_train_protein_ids = pd.Series(train_protein_ids)\n",
    "\n",
    "# Проход по каждому уникальному GO-терму.\n",
    "for i in range(num_of_labels):\n",
    "    # Для каждого label чтение сответсвующих данных `train_terms`\n",
    "    n_train_terms = train_terms_updated[\n",
    "        train_terms_updated['term'] == labels[i]\n",
    "    ]\n",
    "\n",
    "    # Выбор подмножества с уникальными EntryId (названиями белков) для\n",
    "    # текущей цели (GO-терм). Не уникальность связана с 3-мя типами аспектов.\n",
    "    label_related_proteins = n_train_terms['EntryID'].unique()\n",
    "\n",
    "    # В серии `series_train_protein_ids` pandas, если белок связан\n",
    "    # с текущей целью, то ей присваивается 1, иначе 0\n",
    "    # (через конвертацию bool в float).\n",
    "    #  Замена i-го столбеца в `train_labels` на эту серию.\n",
    "    train_labels[:,i] =  (\n",
    "        series_train_protein_ids\n",
    "        .isin(label_related_proteins)\n",
    "        .astype(float)\n",
    "    )\n",
    "\n",
    "# Конвертация матрицы из numpy в pandas датафрейм.\n",
    "labels_df = pd.DataFrame(data = train_labels, columns = labels)\n",
    "labels_df = labels_df.astype('int32')\n",
    "print(labels_df.shape)\n",
    "print(round(labels_df.memory_usage().sum() / 1024**3, 2), 'GB')"
   ]
  },
  {
   "cell_type": "markdown",
   "metadata": {},
   "source": [
    "## Сохранение подготовленых признаков и целей."
   ]
  },
  {
   "cell_type": "code",
   "execution_count": 31,
   "metadata": {},
   "outputs": [],
   "source": [
    "# Сохранение признаков.\n",
    "train_features_df.to_csv(\n",
    "    DIR_RESOURCE / 'data/prepared/train_features_v2.csv',\n",
    "    index=False,\n",
    ")\n",
    "# Сохранение целей.\n",
    "labels_df.to_csv(\n",
    "    DIR_RESOURCE / 'data/prepared/train_lbls_top1500_goterms_v2.csv',\n",
    "    index=False,\n",
    ")\n",
    "# Сохранение массива IA, соответсвующих GO-термам из `labels_df`\n",
    "# в том же порядке следования.\n",
    "np.save(\n",
    "    DIR_RESOURCE / 'data/prepared/ai_arr_top1500_goterms_v2',\n",
    "    arr=ia_arr,\n",
    ")"
   ]
  }
 ],
 "metadata": {
  "kernelspec": {
   "display_name": ".venv",
   "language": "python",
   "name": "python3"
  },
  "language_info": {
   "codemirror_mode": {
    "name": "ipython",
    "version": 3
   },
   "file_extension": ".py",
   "mimetype": "text/x-python",
   "name": "python",
   "nbconvert_exporter": "python",
   "pygments_lexer": "ipython3",
   "version": "3.10.12"
  },
  "orig_nbformat": 4
 },
 "nbformat": 4,
 "nbformat_minor": 2
}
