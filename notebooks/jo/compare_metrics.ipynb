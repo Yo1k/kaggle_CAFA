{
 "cells": [
  {
   "cell_type": "code",
   "execution_count": null,
   "metadata": {},
   "outputs": [],
   "source": [
    "from sklearn.model_selection import cross_validate\n",
    "from sklearn.metrics import accuracy_score, precision_score, recall_score\n",
    "\n",
    "# оценить эффективность модели по разным метрикам\n",
    "def evaluate_model_performance(model, X, y, cv_folds, random_seeds, metrics):\n",
    "\n",
    "    results = {}\n",
    "    # используем разные seed, чтобы на каждой итерации получать разные наборы данных при разделении на тест и трейн\n",
    "    for seed in random_seeds:\n",
    "        # возвращает словарь с score по каждому набору с разделением на test_score и train_score, время выполнения fit_time, может вернуть estimator, если return_estimator==True, а также оценку по метрикам из списка metrics\n",
    "        cv_results = cross_validate(model, X, y, cv=cv_folds, scoring=metrics, random_state=seed)\n",
    "\n",
    "        for metric in metrics:\n",
    "            metric_key = f\"{metric}_seed_{seed}\"\n",
    "            metric_scores = cv_results[f\"test_{metric}\"]\n",
    "            metric_mean = metric_scores.mean()\n",
    "\n",
    "            if metric_key in results:\n",
    "                results[metric_key].append(metric_mean)\n",
    "            else:\n",
    "                results[metric_key] = [metric_mean]\n",
    "\n",
    "    return results\n",
    "\n",
    "# Пример использования evaluate_model_performance()\n",
    "X = ...\n",
    "y = ...\n",
    "model = ...\n",
    "cv_folds = 5\n",
    "random_seeds = [42, 123, 456]\n",
    "metrics = [accuracy_score, precision_score, recall_score]\n",
    "\n",
    "performance_results = evaluate_model_performance(model, X, y, cv_folds, random_seeds, metrics)\n",
    "\n",
    "for metric_key, metric_scores in performance_results.items():\n",
    "    print(f\"{metric_key}: {metric_scores}\")"
   ]
  }
 ],
 "metadata": {
  "language_info": {
   "name": "python"
  },
  "orig_nbformat": 4
 },
 "nbformat": 4,
 "nbformat_minor": 2
}
