{
 "cells": [
  {
   "cell_type": "markdown",
   "metadata": {},
   "source": [
    "Получение различных массивов `terms` в зависимости от частоты их встречаемости.  \n",
    "Веса в IA.txt: самые редкие `term` имеют больший вес, но не все `term` из  \n",
    "IA.txt присутсвуют в train_terms."
   ]
  },
  {
   "cell_type": "code",
   "execution_count": 2,
   "metadata": {},
   "outputs": [],
   "source": [
    "from pathlib import Path\n",
    "import pandas as pd\n",
    "\n",
    "\n",
    "# Корень проекта.\n",
    "DIR_ROOT = Path.cwd().parent.parent\n",
    "# Путь к удаленной директории с ресурсами: данные, модели и т.д.\n",
    "DIR_REMOTE: Path | None = Path('/home/admin/cafa/resources')\n",
    "\n",
    "if DIR_REMOTE is not None and DIR_REMOTE.exists():\n",
    "    DIR_RESOURCE = DIR_REMOTE\n",
    "else:\n",
    "    DIR_RESOURCE = DIR_ROOT"
   ]
  },
  {
   "cell_type": "code",
   "execution_count": 5,
   "metadata": {},
   "outputs": [
    {
     "data": {
      "text/plain": [
       "(5363863, 3)"
      ]
     },
     "execution_count": 5,
     "metadata": {},
     "output_type": "execute_result"
    }
   ],
   "source": [
    "train_terms = pd.read_csv(DIR_RESOURCE / 'data/raw/Train/train_terms.tsv', sep=\"\\t\")\n",
    "\n",
    "train_terms.shape"
   ]
  },
  {
   "cell_type": "code",
   "execution_count": 8,
   "metadata": {},
   "outputs": [
    {
     "data": {
      "text/html": [
       "<div>\n",
       "<style scoped>\n",
       "    .dataframe tbody tr th:only-of-type {\n",
       "        vertical-align: middle;\n",
       "    }\n",
       "\n",
       "    .dataframe tbody tr th {\n",
       "        vertical-align: top;\n",
       "    }\n",
       "\n",
       "    .dataframe thead th {\n",
       "        text-align: right;\n",
       "    }\n",
       "</style>\n",
       "<table border=\"1\" class=\"dataframe\">\n",
       "  <thead>\n",
       "    <tr style=\"text-align: right;\">\n",
       "      <th></th>\n",
       "      <th>term</th>\n",
       "      <th>weight</th>\n",
       "    </tr>\n",
       "  </thead>\n",
       "  <tbody>\n",
       "    <tr>\n",
       "      <th>0</th>\n",
       "      <td>GO:0000001</td>\n",
       "      <td>0.000000</td>\n",
       "    </tr>\n",
       "    <tr>\n",
       "      <th>1</th>\n",
       "      <td>GO:0000002</td>\n",
       "      <td>3.103836</td>\n",
       "    </tr>\n",
       "    <tr>\n",
       "      <th>2</th>\n",
       "      <td>GO:0000003</td>\n",
       "      <td>3.439404</td>\n",
       "    </tr>\n",
       "    <tr>\n",
       "      <th>3</th>\n",
       "      <td>GO:0000011</td>\n",
       "      <td>0.056584</td>\n",
       "    </tr>\n",
       "    <tr>\n",
       "      <th>4</th>\n",
       "      <td>GO:0000012</td>\n",
       "      <td>6.400377</td>\n",
       "    </tr>\n",
       "  </tbody>\n",
       "</table>\n",
       "</div>"
      ],
      "text/plain": [
       "         term    weight\n",
       "0  GO:0000001  0.000000\n",
       "1  GO:0000002  3.103836\n",
       "2  GO:0000003  3.439404\n",
       "3  GO:0000011  0.056584\n",
       "4  GO:0000012  6.400377"
      ]
     },
     "execution_count": 8,
     "metadata": {},
     "output_type": "execute_result"
    }
   ],
   "source": [
    "ia_df = pd.read_csv(DIR_RESOURCE / 'data/raw/IA.txt', sep=\"\\t\", header=None)\n",
    "ia_df.columns = ['term', 'weight']\n",
    "ia_df.head()"
   ]
  },
  {
   "cell_type": "code",
   "execution_count": 13,
   "metadata": {},
   "outputs": [
    {
     "data": {
      "text/html": [
       "<div>\n",
       "<style scoped>\n",
       "    .dataframe tbody tr th:only-of-type {\n",
       "        vertical-align: middle;\n",
       "    }\n",
       "\n",
       "    .dataframe tbody tr th {\n",
       "        vertical-align: top;\n",
       "    }\n",
       "\n",
       "    .dataframe thead th {\n",
       "        text-align: right;\n",
       "    }\n",
       "</style>\n",
       "<table border=\"1\" class=\"dataframe\">\n",
       "  <thead>\n",
       "    <tr style=\"text-align: right;\">\n",
       "      <th></th>\n",
       "      <th>EntryID</th>\n",
       "      <th>term</th>\n",
       "      <th>aspect</th>\n",
       "      <th>weight</th>\n",
       "    </tr>\n",
       "  </thead>\n",
       "  <tbody>\n",
       "    <tr>\n",
       "      <th>0</th>\n",
       "      <td>A0A009IHW8</td>\n",
       "      <td>GO:0008152</td>\n",
       "      <td>BPO</td>\n",
       "      <td>1.598544</td>\n",
       "    </tr>\n",
       "    <tr>\n",
       "      <th>1</th>\n",
       "      <td>A0A009IHW8</td>\n",
       "      <td>GO:0034655</td>\n",
       "      <td>BPO</td>\n",
       "      <td>0.042274</td>\n",
       "    </tr>\n",
       "    <tr>\n",
       "      <th>2</th>\n",
       "      <td>A0A009IHW8</td>\n",
       "      <td>GO:0072523</td>\n",
       "      <td>BPO</td>\n",
       "      <td>0.083901</td>\n",
       "    </tr>\n",
       "    <tr>\n",
       "      <th>3</th>\n",
       "      <td>A0A009IHW8</td>\n",
       "      <td>GO:0044270</td>\n",
       "      <td>BPO</td>\n",
       "      <td>0.281155</td>\n",
       "    </tr>\n",
       "    <tr>\n",
       "      <th>4</th>\n",
       "      <td>A0A009IHW8</td>\n",
       "      <td>GO:0006753</td>\n",
       "      <td>BPO</td>\n",
       "      <td>0.013844</td>\n",
       "    </tr>\n",
       "  </tbody>\n",
       "</table>\n",
       "</div>"
      ],
      "text/plain": [
       "      EntryID        term aspect    weight\n",
       "0  A0A009IHW8  GO:0008152    BPO  1.598544\n",
       "1  A0A009IHW8  GO:0034655    BPO  0.042274\n",
       "2  A0A009IHW8  GO:0072523    BPO  0.083901\n",
       "3  A0A009IHW8  GO:0044270    BPO  0.281155\n",
       "4  A0A009IHW8  GO:0006753    BPO  0.013844"
      ]
     },
     "execution_count": 13,
     "metadata": {},
     "output_type": "execute_result"
    }
   ],
   "source": [
    "# добавляем веса из ia_df в таблицу с исходными данными\n",
    "\n",
    "trains_terms_with_weights = pd.merge(train_terms, ia_df, on='term', how='left')\n",
    "trains_terms_with_weights.head()"
   ]
  },
  {
   "cell_type": "code",
   "execution_count": 12,
   "metadata": {},
   "outputs": [
    {
     "data": {
      "text/plain": [
       "1500"
      ]
     },
     "execution_count": 12,
     "metadata": {},
     "output_type": "execute_result"
    }
   ],
   "source": [
    "# убираем дубликаты `term`, сортируем вес по убыванию\n",
    "trains_terms_with_weights = trains_terms_with_weights.drop_duplicates(\n",
    "    subset=['term']).sort_values(by=['weight'], ascending=False\n",
    ")\n",
    "# сохраняем в список 1500 самых редких == с наибольшим весом `term`\n",
    "labels_1500_rare = trains_terms_with_weights['term'].head(1500).to_list()\n",
    "len(labels_1500_rare)"
   ]
  },
  {
   "cell_type": "code",
   "execution_count": 11,
   "metadata": {},
   "outputs": [
    {
     "data": {
      "text/html": [
       "<div>\n",
       "<style scoped>\n",
       "    .dataframe tbody tr th:only-of-type {\n",
       "        vertical-align: middle;\n",
       "    }\n",
       "\n",
       "    .dataframe tbody tr th {\n",
       "        vertical-align: top;\n",
       "    }\n",
       "\n",
       "    .dataframe thead th {\n",
       "        text-align: right;\n",
       "    }\n",
       "</style>\n",
       "<table border=\"1\" class=\"dataframe\">\n",
       "  <thead>\n",
       "    <tr style=\"text-align: right;\">\n",
       "      <th></th>\n",
       "      <th>EntryID</th>\n",
       "      <th>term</th>\n",
       "      <th>aspect</th>\n",
       "    </tr>\n",
       "  </thead>\n",
       "  <tbody>\n",
       "    <tr>\n",
       "      <th>554</th>\n",
       "      <td>A0A024B7I3</td>\n",
       "      <td>GO:2000290</td>\n",
       "      <td>BPO</td>\n",
       "    </tr>\n",
       "    <tr>\n",
       "      <th>2213</th>\n",
       "      <td>A0A060XXJ7</td>\n",
       "      <td>GO:0090664</td>\n",
       "      <td>BPO</td>\n",
       "    </tr>\n",
       "    <tr>\n",
       "      <th>2974</th>\n",
       "      <td>A0A061I403</td>\n",
       "      <td>GO:0044601</td>\n",
       "      <td>BPO</td>\n",
       "    </tr>\n",
       "    <tr>\n",
       "      <th>5032</th>\n",
       "      <td>A0A088FLK9</td>\n",
       "      <td>GO:0019835</td>\n",
       "      <td>BPO</td>\n",
       "    </tr>\n",
       "    <tr>\n",
       "      <th>5566</th>\n",
       "      <td>A0A096MJY4</td>\n",
       "      <td>GO:0060290</td>\n",
       "      <td>BPO</td>\n",
       "    </tr>\n",
       "  </tbody>\n",
       "</table>\n",
       "</div>"
      ],
      "text/plain": [
       "         EntryID        term aspect\n",
       "554   A0A024B7I3  GO:2000290    BPO\n",
       "2213  A0A060XXJ7  GO:0090664    BPO\n",
       "2974  A0A061I403  GO:0044601    BPO\n",
       "5032  A0A088FLK9  GO:0019835    BPO\n",
       "5566  A0A096MJY4  GO:0060290    BPO"
      ]
     },
     "execution_count": 11,
     "metadata": {},
     "output_type": "execute_result"
    }
   ],
   "source": [
    "# обновляем дата сет оставляя в нем только те белки, у которых были редкие\n",
    "# онтологии\n",
    "\n",
    "train_terms_rare = train_terms.loc[train_terms['term'].isin(labels_1500_rare)]\n",
    "train_terms_rare.head()"
   ]
  },
  {
   "cell_type": "code",
   "execution_count": 14,
   "metadata": {},
   "outputs": [
    {
     "data": {
      "text/plain": [
       "(11563, 3)"
      ]
     },
     "execution_count": 14,
     "metadata": {},
     "output_type": "execute_result"
    }
   ],
   "source": [
    "train_terms_rare.shape"
   ]
  },
  {
   "cell_type": "code",
   "execution_count": null,
   "metadata": {},
   "outputs": [],
   "source": [
    "# Загрузка id белков, используемых далее для определения embeddings.\n",
    "train_protein_ids = np.load(\n",
    "    DIR_RESOURCE / 'data/interim/t5embeds/train_ids.npy'\n",
    ")\n",
    "print(train_protein_ids.shape)"
   ]
  },
  {
   "cell_type": "code",
   "execution_count": null,
   "metadata": {},
   "outputs": [],
   "source": [
    "train_embeddings = np.load(\n",
    "    DIR_RESOURCE / 'data/interim/t5embeds/train_embeds.npy'\n",
    ")\n",
    "\n",
    "# Трансформация embeddings в `pandas` датафрейм.\n",
    "column_num = train_embeddings.shape[1]\n",
    "train_features_df = pd.DataFrame(\n",
    "    train_embeddings,\n",
    "    columns = [\"Column_\" + str(i) for i in range(1, column_num+1)]\n",
    ")\n",
    "# Удаление неиспользуемых в дальнейшем объектов.\n",
    "del train_embeddings\n",
    "print(train_features_df.shape)\n",
    "print(round(train_features_df.memory_usage().sum() / 1024**3, 2), 'GB')"
   ]
  },
  {
   "cell_type": "code",
   "execution_count": null,
   "metadata": {},
   "outputs": [],
   "source": [
    "# Формирование нулевой матрицы с необходимыми размерами:\n",
    "# например train_size x num_of_labels (142246 x 1500)\n",
    "num_of_labels = 1500\n",
    "\n",
    "train_size = train_protein_ids.shape[0]\n",
    "train_labels = np.zeros((train_size, num_of_labels))\n",
    "\n",
    "# Конвертация `numpy` одномерного массива в `pandas.Series`.\n",
    "series_train_protein_ids = pd.Series(train_protein_ids)\n",
    "\n",
    "# Проход по каждому уникальному GO-терму.\n",
    "for i in range(num_of_labels):\n",
    "    # Для каждого label чтение сответсвующих данных `train_terms`\n",
    "    n_train_terms = train_terms_rare[\n",
    "        train_terms_rare['term'] == labels_1500_rare[i]\n",
    "    ]\n",
    "\n",
    "    # Выбор подмножества с уникальными EntryId (названиями белков) для\n",
    "    # текущей цели (GO-терм). Не уникальность связана с 3-мя типами аспектов.\n",
    "    label_related_proteins = n_train_terms['EntryID'].unique()\n",
    "\n",
    "    # В серии `series_train_protein_ids` pandas, если белок связан\n",
    "    # с текущей целью, то ей присваивается 1, иначе 0\n",
    "    # (через конвертацию bool в float).\n",
    "    #  Замена i-го столбеца в `train_labels` на эту серию.\n",
    "    train_labels[:,i] =  series_train_protein_ids.isin(label_related_proteins).astype(float)\n",
    "\n",
    "# Конвертация матрицы из numpy в pandas датафрейм.\n",
    "labels_df = pd.DataFrame(data = train_labels, columns = labels)\n",
    "labels_df = labels_df.astype('int32')\n",
    "print(labels_df.shape)\n",
    "print(round(labels_df.memory_usage().sum() / 1024**3, 2), 'GB')"
   ]
  },
  {
   "cell_type": "code",
   "execution_count": null,
   "metadata": {},
   "outputs": [],
   "source": [
    "# # Сохранение признаков.\n",
    "# train_features_df.to_csv(\n",
    "#     DIR_RESOURCE / 'data/prepared/train_features.csv',\n",
    "#     index=False,\n",
    "# )\n",
    "# # Сохранение целей.\n",
    "# labels_df.to_csv(\n",
    "#     DIR_RESOURCE / 'data/prepared/train_lbls_top1500_goterms.csv',\n",
    "#     index=False,\n",
    "# )"
   ]
  }
 ],
 "metadata": {
  "kernelspec": {
   "display_name": "venv",
   "language": "python",
   "name": "python3"
  },
  "language_info": {
   "codemirror_mode": {
    "name": "ipython",
    "version": 3
   },
   "file_extension": ".py",
   "mimetype": "text/x-python",
   "name": "python",
   "nbconvert_exporter": "python",
   "pygments_lexer": "ipython3",
   "version": "3.10.12"
  },
  "orig_nbformat": 4
 },
 "nbformat": 4,
 "nbformat_minor": 2
}
