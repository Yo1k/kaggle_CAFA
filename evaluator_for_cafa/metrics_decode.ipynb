{
 "cells": [
  {
   "cell_type": "code",
   "execution_count": null,
   "metadata": {},
   "outputs": [],
   "source": [
    "[\"ns\", \"tau\", \"cov\", \"pr\", \"rc\", \"f\", \"wcov\", \"wpr\", \"wrc\", \"wf\", \"mi\", \"ru\", \"s\", 'max_cov']\n",
    "\n",
    "ns = 'ontology domain -> [\"Molecular Function\", \"Cellular Component\", \"Biological Process\"]'\n",
    "\n",
    "tau = 'np.ndarray -> np.arange(0.001, 1, 0.001)'\n",
    "\n",
    "cov = 'Coverage -> number of proteins with at least one term predicted with score >= tau'\n",
    "\n",
    "pr = 'precision'\n",
    "\n",
    "rc = 'recall'\n",
    "\n",
    "f = 'f1_score -> a harmonic mean of the precision and recall'\n",
    "\n",
    "wcov = 'Weighted coverage, compute missing and remaining uncertainty terms'\n",
    "\n",
    "wpr = 'Weighted precision, compute missing and remaining uncertainty terms'\n",
    "\n",
    "wrc = 'Weighted recall, compute missing and remaining uncertainty terms'\n",
    "\n",
    "wf = 'Weighted f1_score, compute missing and remaining uncertainty terms'\n",
    "\n",
    "mi = 'misinformation --> predicted but not in the ground truth'\n",
    "\n",
    "ru = 'remaining uncertainty -> not predicted but in the ground truth'\n",
    "\n",
    "s = 'compute np.sqrt(ru**2 + mi**2)'\n",
    "\n",
    "max_cov = 'метки для лучших результатов, чтобы сформировать потом df_best'"
   ]
  }
 ],
 "metadata": {
  "language_info": {
   "name": "python"
  },
  "orig_nbformat": 4
 },
 "nbformat": 4,
 "nbformat_minor": 2
}
