{
 "cells": [
  {
   "cell_type": "markdown",
   "metadata": {},
   "source": [
    "I Подготовка данных"
   ]
  },
  {
   "cell_type": "code",
   "execution_count": null,
   "metadata": {},
   "outputs": [],
   "source": [
    "Parse Information accretion file\n",
    "Input -> txt file (GO:0000003 3.27)\n",
    "Output -> dict(ключи - GO, значения - веса)\n",
    "\n",
    "Переменная: ia_dict\n",
    "Метод: parsers/ia_parser\n",
    "\n",
    "-------\n",
    "\n",
    "Parse obo file\n",
    "Input -> obo file (go-basic.obo)\n",
    "Output -> dict(ключи - namespace (BPO, CCO, MFO), значения:\n",
    "{'name': 'mitochondrion inheritance',\n",
    " 'namespace': 'biological_process',\n",
    " 'def': '\"The distribution of mitochondria, including the mitochondrial genome, into daughter cells after mitosis or meiosis, mediated by interactions between mitochondria and the cytoskeleton.\" [GOC:mcc, PMID:10873824, PMID:11389764]',\n",
    " 'alt_id': [],\n",
    " 'rel': ['GO:0048308', 'GO:0048311']})\n",
    "\n",
    "Переменная: term_dict\n",
    "Метод: parser/obo_parser\n",
    "\n",
    "-------\n",
    "\n",
    "Формирование листа с онтологиями в виде графа\n",
    "Input -> term_dict\n",
    "Output -> list[Graph]\n",
    "\n",
    "Переменная: ontologies\n",
    "Метод: main/for ns, terms_dict in obo_parser(args.obo_file).items():\n",
    "\n",
    "-------\n",
    "\n",
    "Формирование списка с файлами предсказаний моделей\n",
    "\n",
    "Input -> path to prediction folder\n",
    "Output -> list[str]\n",
    "\n",
    "Переменная: pred_files\n",
    "Метод: main/for root, dirs, files in os.walk(pred_folder):\n",
    "\n",
    "-------\n",
    "\n",
    "Parse ground truth\n",
    "\n",
    "За ground truth берем часть train_terms.tsv (test_terms.tsv у нас нет)\n",
    "\n",
    "Input -> gt_file, ontologies\n",
    "Output -> dict(namespace: объект GroundTruth(ids, matrix, namespace))\n",
    "\n",
    "Переменная: gt\n",
    "Метод: parser/gt_parser\n",
    "\n",
    "-------\n",
    "\n",
    "Формируем маccив с пороговыми значения от 0.001 до 0.999\n",
    "\n",
    "Переменная: tau_arr\n",
    "Метод: main/np.arange(args.th_step, 1, args.th_step)"
   ]
  },
  {
   "cell_type": "markdown",
   "metadata": {},
   "source": [
    "II Формирование итогового отчета dfs -> pd.DataFrame"
   ]
  },
  {
   "cell_type": "code",
   "execution_count": null,
   "metadata": {},
   "outputs": [],
   "source": [
    "Для каждого файла из pred_files собираем данные\n",
    "Input -> файл с предсказаниями\n",
    "Output -> лист с объектами Prediction\n",
    "\n",
    "Переменная: prediction\n",
    "Метод: parser/pred_parser\n",
    "\n",
    "-------\n",
    "\n",
    "Оцениваем предсказания по списку метрик\n",
    "\n",
    "[\"cov\", \"pr\", \"rc\", \"f\", \"wcov\", \"wpr\", \"wrc\", \"wf\", \"mi\", \"ru\", \"s\"]\n",
    "\n",
    "Переменная: df_pred\n",
    "Метод: evaluation/evaluate_prediction\n",
    "\n",
    "На выходе получаем 1 файл csv evaluation_all.tsv a table containing the full evaluation, i.e. assessment measures for each threshold. This file is used as input to generate the plots (see below)\n",
    "\n",
    "И отдельный файл для каждой метрики с лучшими строками evaluation_best_{}.tsv"
   ]
  }
 ],
 "metadata": {
  "language_info": {
   "name": "python"
  },
  "orig_nbformat": 4
 },
 "nbformat": 4,
 "nbformat_minor": 2
}
